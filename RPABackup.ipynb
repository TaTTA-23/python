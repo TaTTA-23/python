{
 "cells": [
  {
   "cell_type": "code",
   "execution_count": 1,
   "metadata": {},
   "outputs": [],
   "source": [
    "# Automatização de backup dos arquivos do sistema\n",
    "import pyautogui\n",
    "import time\n",
    "pyautogui.alert (\"O código vai começar, não mexa em seu computador, até o código ser finalizado.\")\n",
    "pyautogui.PAUSE = 0.5\n",
    "\n",
    "#Abrir navegador safari: para saber a posição do mouse a partir de coordenadas\n",
    "# 1-  coloque o mouse no local que deseja saber, com a tecla tab ande até  o execute o comando import pyautogui/ pyautogui.position(). [x = 202,y = 767]\n",
    "#IMPORTANTE : no Mac sempre deve se por o tempo de movimento do mouse.\n",
    "pyautogui.click(x=202, y=767,duration=0.5)\n",
    "time.sleep(5)\n",
    "\n",
    "#digitar google drive (https://drive.google.com/drive/u/0/my-drive) esperar 1 segundo.\n",
    "pyautogui.write('drive.google.com/drive/u/0/my-drive')\n",
    "pyautogui.press(\"enter\")\n",
    "\n",
    "\n",
    "#clicar em novo x=88, y= 154\n",
    "pyautogui.click(x=88,y=154, duration=0.5)\n",
    "time.sleep(5)\n",
    "\n",
    "#clicar em upload de arquivo x=104, y=242\n",
    "pyautogui.click(x=108, y=217, duration= 0.5)\n",
    "time.sleep(5)\n",
    "\n",
    "#selecionar arquivo para upload\n",
    "pyautogui.click(x=77, y=140, duration=0.5)\n",
    "time.sleep(5)\n",
    "#selecionar transferencias\n",
    "pyautogui.click(x=105, y=212, duration=0.5)\n",
    "time.sleep(5)\n",
    "#selecionar arquivo\n",
    "pyautogui.click(x=211, y=346, duration=0.5)\n",
    "time.sleep(5)\n",
    "pyautogui.press(\"enter\")\n",
    "time.sleep(5)\n",
    "pyautogui.alert (\"O código acabou, agora você já pode mexer em seu computador. Obrigada.\")\n",
    "pyautogui.PAUSE = 0.5"
   ]
  },
  {
   "cell_type": "code",
   "execution_count": 4,
   "metadata": {},
   "outputs": [
    {
     "data": {
      "text/plain": [
       "Point(x=211, y=346)"
      ]
     },
     "execution_count": 4,
     "metadata": {},
     "output_type": "execute_result"
    }
   ],
   "source": [
    "import pyautogui                            \n",
    "pyautogui.position()\n"
   ]
  }
 ],
 "metadata": {
  "kernelspec": {
   "display_name": "Python 3.10.2 64-bit",
   "language": "python",
   "name": "python3"
  },
  "language_info": {
   "codemirror_mode": {
    "name": "ipython",
    "version": 3
   },
   "file_extension": ".py",
   "mimetype": "text/x-python",
   "name": "python",
   "nbconvert_exporter": "python",
   "pygments_lexer": "ipython3",
   "version": "3.10.2"
  },
  "orig_nbformat": 4,
  "vscode": {
   "interpreter": {
    "hash": "aee8b7b246df8f9039afb4144a1f6fd8d2ca17a180786b69acc140d282b71a49"
   }
  }
 },
 "nbformat": 4,
 "nbformat_minor": 2
}
